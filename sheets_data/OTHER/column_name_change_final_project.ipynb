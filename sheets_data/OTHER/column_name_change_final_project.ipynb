{
 "cells": [
  {
   "cell_type": "code",
   "execution_count": 1,
   "id": "af9c6b8a-db24-4939-9e71-17ba207e34ad",
   "metadata": {},
   "outputs": [],
   "source": [
    "import pandas as pd \n",
    "import numpy as np"
   ]
  },
  {
   "cell_type": "code",
   "execution_count": 6,
   "id": "fedc5ae8-7e3d-4c38-a3e4-18557294a97d",
   "metadata": {},
   "outputs": [],
   "source": [
    "pl = pd.read_csv(\"/Users/lewisclark/Desktop/PROJECTS/final_project/sheets_data/MASTER_DATA/master_pl_df_stats_league.csv\")\n",
    "ll = pd.read_csv(\"/Users/lewisclark/Desktop/PROJECTS/final_project/sheets_data/MASTER_DATA/master_ll_df_stats_league.csv\")\n",
    "bd = pd.read_csv(\"/Users/lewisclark/Desktop/PROJECTS/final_project/sheets_data/MASTER_DATA/master_bd_df_stats_league.csv\")\n",
    "sa = pd.read_csv(\"/Users/lewisclark/Desktop/PROJECTS/final_project/sheets_data/MASTER_DATA/master_sa_df_stats_league.csv\")\n",
    "l1 = pd.read_csv(\"/Users/lewisclark/Desktop/PROJECTS/final_project/sheets_data/MASTER_DATA/master_l1_df_stats_league.csv\")"
   ]
  },
  {
   "cell_type": "code",
   "execution_count": 18,
   "id": "40c2cc4c-9302-4083-a7d3-fa2d607a4d2f",
   "metadata": {},
   "outputs": [],
   "source": [
    "def clean_columns(df):\n",
    "    df = df.rename(columns=lambda x: x.replace('.1', '').replace('+', '_plus_').replace('-', '_minus_'))\n",
    "    return df\n",
    "\n",
    "pl = clean_columns(pl)\n",
    "ll = clean_columns(ll)\n",
    "bd = clean_columns(bd)\n",
    "sa = clean_columns(sa)\n",
    "l1 = clean_columns(l1)"
   ]
  },
  {
   "cell_type": "code",
   "execution_count": 28,
   "id": "f73119e6-a1bb-47dc-be09-df94b1d349f4",
   "metadata": {},
   "outputs": [
    {
     "name": "stdout",
     "output_type": "stream",
     "text": [
      "(100, 18)\n",
      "(100, 18)\n",
      "(90, 18)\n",
      "(100, 18)\n",
      "(96, 18)\n"
     ]
    }
   ],
   "source": [
    "print(pl.shape)\n",
    "print(ll.shape)\n",
    "print(bd.shape)\n",
    "print(sa.shape)\n",
    "print(l1.shape)"
   ]
  },
  {
   "cell_type": "code",
   "execution_count": 22,
   "id": "525b7f64-53fa-4ff9-9831-5f6daa1b4ee7",
   "metadata": {},
   "outputs": [
    {
     "data": {
      "text/plain": [
       "(100, 18)"
      ]
     },
     "execution_count": 22,
     "metadata": {},
     "output_type": "execute_result"
    }
   ],
   "source": [
    "ll.shape"
   ]
  },
  {
   "cell_type": "code",
   "execution_count": 23,
   "id": "d8b3a769-1173-4c6e-814b-9840cb52d956",
   "metadata": {},
   "outputs": [
    {
     "data": {
      "text/plain": [
       "(90, 18)"
      ]
     },
     "execution_count": 23,
     "metadata": {},
     "output_type": "execute_result"
    }
   ],
   "source": [
    "bd.shape"
   ]
  },
  {
   "cell_type": "code",
   "execution_count": 24,
   "id": "553a3389-0cb2-4815-aa24-d7428f250073",
   "metadata": {},
   "outputs": [
    {
     "data": {
      "text/plain": [
       "(100, 18)"
      ]
     },
     "execution_count": 24,
     "metadata": {},
     "output_type": "execute_result"
    }
   ],
   "source": [
    "sa.shape"
   ]
  },
  {
   "cell_type": "code",
   "execution_count": 25,
   "id": "c14700e3-bb4c-45b4-a7e7-25a71ff8e4f6",
   "metadata": {},
   "outputs": [
    {
     "data": {
      "text/plain": [
       "(96, 18)"
      ]
     },
     "execution_count": 25,
     "metadata": {},
     "output_type": "execute_result"
    }
   ],
   "source": [
    "l1.shape"
   ]
  },
  {
   "cell_type": "code",
   "execution_count": 29,
   "id": "60e5ed68-12c2-4a74-9076-61123cc153e7",
   "metadata": {},
   "outputs": [],
   "source": [
    "pl.to_csv(\"final_master_pl.csv\", index=False)\n",
    "ll.to_csv(\"final_master_ll.csv\", index=False)\n",
    "bd.to_csv(\"final_master_bd.csv\", index=False)\n",
    "sa.to_csv(\"final_master_sa.csv\", index=False)\n",
    "l1.to_csv(\"final_master_l1.csv\", index=False)"
   ]
  },
  {
   "cell_type": "code",
   "execution_count": null,
   "id": "fec56f76-cbba-4397-bd94-b835eed53c6d",
   "metadata": {},
   "outputs": [],
   "source": []
  }
 ],
 "metadata": {
  "kernelspec": {
   "display_name": "Python [conda env:base] *",
   "language": "python",
   "name": "conda-base-py"
  },
  "language_info": {
   "codemirror_mode": {
    "name": "ipython",
    "version": 3
   },
   "file_extension": ".py",
   "mimetype": "text/x-python",
   "name": "python",
   "nbconvert_exporter": "python",
   "pygments_lexer": "ipython3",
   "version": "3.13.5"
  }
 },
 "nbformat": 4,
 "nbformat_minor": 5
}
