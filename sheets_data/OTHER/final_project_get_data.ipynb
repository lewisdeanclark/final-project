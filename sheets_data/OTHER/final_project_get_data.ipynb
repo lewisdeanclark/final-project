{
 "cells": [
  {
   "cell_type": "code",
   "execution_count": 95,
   "id": "4141b1cd-863d-4b15-ae8c-f4e08d664e09",
   "metadata": {},
   "outputs": [
    {
     "name": "stdout",
     "output_type": "stream",
     "text": [
      "Found 24 tables on the page.\n",
      "StandardStats saved, shape: (20, 26)\n"
     ]
    }
   ],
   "source": [
    "import pandas as pd\n",
    "import os\n",
    "\n",
    "### LA LIGA - STANDARD STATS\n",
    "\n",
    "SEASON_URL = \"https://fbref.com/en/comps/12/2024-2025/2024-2025-La-Liga-Stats\"\n",
    "OUTPUT_FOLDER = \"FBRef_2024_25\"\n",
    "os.makedirs(OUTPUT_FOLDER, exist_ok=True)\n",
    "\n",
    "tables = pd.read_html(SEASON_URL, header=[0, 1])\n",
    "print(f\"Found {len(tables)} tables on the page.\")\n",
    "\n",
    "standard_stats_df = tables[1]\n",
    "\n",
    "standard_stats_df.columns = [\n",
    "    '_'.join([str(c) for c in col if str(c) != '']).strip() if isinstance(col, tuple) else col\n",
    "    for col in standard_stats_df.columns.values]\n",
    "\n",
    "standard_stats_df = standard_stats_df.loc[:, ~standard_stats_df.columns.str.contains('^Unnamed')]\n",
    "\n",
    "filename = os.path.join(OUTPUT_FOLDER, \"StandardStats.csv\")\n",
    "standard_stats_df.to_csv(filename, index=False)\n",
    "print(f\"StandardStats saved, shape: {standard_stats_df.shape}\")"
   ]
  },
  {
   "cell_type": "code",
   "execution_count": 101,
   "id": "ec558cb5-f9ff-4929-8253-efb860651b06",
   "metadata": {},
   "outputs": [],
   "source": [
    "### have to manually change the url for each league/season, painnnn"
   ]
  },
  {
   "cell_type": "code",
   "execution_count": 97,
   "id": "dae1afc8-0d70-4a11-ab83-f555634c2fb8",
   "metadata": {},
   "outputs": [
    {
     "name": "stdout",
     "output_type": "stream",
     "text": [
      "Found 24 tables on the page.\n",
      "StandardStats saved, shape: (20, 26)\n"
     ]
    }
   ],
   "source": [
    "### PREMIER LEAGUE - STANDARD STATS\n",
    "\n",
    "\n",
    "SEASON_URL = \"https://fbref.com/en/comps/9/2024-2025/2024-2025-Premier-League-Stats\"\n",
    "OUTPUT_FOLDER = \"FBRef_2024_25\"\n",
    "os.makedirs(OUTPUT_FOLDER, exist_ok=True)\n",
    "\n",
    "tables = pd.read_html(SEASON_URL, header=[0, 1])\n",
    "print(f\"Found {len(tables)} tables on the page.\")\n",
    "\n",
    "standard_stats_df = tables[1]\n",
    "\n",
    "standard_stats_df.columns = [\n",
    "    '_'.join([str(c) for c in col if str(c) != '']).strip() if isinstance(col, tuple) else col\n",
    "    for col in standard_stats_df.columns.values]\n",
    "\n",
    "standard_stats_df = standard_stats_df.loc[:, ~standard_stats_df.columns.str.contains('^Unnamed')]\n",
    "\n",
    "filename = os.path.join(OUTPUT_FOLDER, \"StandardStats.csv\")\n",
    "standard_stats_df.to_csv(filename, index=False)\n",
    "print(f\"StandardStats saved, shape: {standard_stats_df.shape}\")"
   ]
  },
  {
   "cell_type": "code",
   "execution_count": 98,
   "id": "9103a134-7271-428c-ae8a-b57f6a6e4083",
   "metadata": {},
   "outputs": [
    {
     "name": "stdout",
     "output_type": "stream",
     "text": [
      "Found 24 tables on the page.\n",
      "StandardStats saved, shape: (18, 26)\n"
     ]
    }
   ],
   "source": [
    "### BUNDESLIGA - STANDARD STATS\n",
    "\n",
    "SEASON_URL = \"https://fbref.com/en/comps/20/2024-2025/2024-2025-Bundesliga-Stats\"\n",
    "OUTPUT_FOLDER = \"FBRef_2024_25\"\n",
    "os.makedirs(OUTPUT_FOLDER, exist_ok=True)\n",
    "\n",
    "tables = pd.read_html(SEASON_URL, header=[0, 1])\n",
    "print(f\"Found {len(tables)} tables on the page.\")\n",
    "\n",
    "standard_stats_df = tables[1]\n",
    "\n",
    "standard_stats_df.columns = [\n",
    "    '_'.join([str(c) for c in col if str(c) != '']).strip() if isinstance(col, tuple) else col\n",
    "    for col in standard_stats_df.columns.values]\n",
    "\n",
    "standard_stats_df = standard_stats_df.loc[:, ~standard_stats_df.columns.str.contains('^Unnamed')]\n",
    "\n",
    "filename = os.path.join(OUTPUT_FOLDER, \"StandardStats.csv\")\n",
    "standard_stats_df.to_csv(filename, index=False)\n",
    "print(f\"StandardStats saved, shape: {standard_stats_df.shape}\")"
   ]
  },
  {
   "cell_type": "code",
   "execution_count": 99,
   "id": "11225550-a56a-4a4f-af73-07a65ebe29a1",
   "metadata": {},
   "outputs": [
    {
     "name": "stdout",
     "output_type": "stream",
     "text": [
      "Found 24 tables on the page.\n",
      "StandardStats saved, shape: (20, 26)\n"
     ]
    }
   ],
   "source": [
    "### SERIE A - STANDARD STATS\n",
    "\n",
    "SEASON_URL = \"https://fbref.com/en/comps/11/2024-2025/2024-2025-Serie-A-Stats\"\n",
    "OUTPUT_FOLDER = \"FBRef_2024_25\"\n",
    "os.makedirs(OUTPUT_FOLDER, exist_ok=True)\n",
    "\n",
    "tables = pd.read_html(SEASON_URL, header=[0, 1])\n",
    "print(f\"Found {len(tables)} tables on the page.\")\n",
    "\n",
    "standard_stats_df = tables[1]\n",
    "\n",
    "standard_stats_df.columns = [\n",
    "    '_'.join([str(c) for c in col if str(c) != '']).strip() if isinstance(col, tuple) else col\n",
    "    for col in standard_stats_df.columns.values]\n",
    "\n",
    "standard_stats_df = standard_stats_df.loc[:, ~standard_stats_df.columns.str.contains('^Unnamed')]\n",
    "\n",
    "filename = os.path.join(OUTPUT_FOLDER, \"StandardStats.csv\")\n",
    "standard_stats_df.to_csv(filename, index=False)\n",
    "print(f\"StandardStats saved, shape: {standard_stats_df.shape}\")"
   ]
  },
  {
   "cell_type": "code",
   "execution_count": 100,
   "id": "451fc2a4-cdb5-40d2-b1f9-a4864b9baa04",
   "metadata": {},
   "outputs": [
    {
     "name": "stdout",
     "output_type": "stream",
     "text": [
      "Found 24 tables on the page.\n",
      "StandardStats saved, shape: (18, 26)\n"
     ]
    }
   ],
   "source": [
    "### LIGUE 1 - STANDARD STATS\n",
    "\n",
    "SEASON_URL = \"https://fbref.com/en/comps/13/2024-2025/2024-2025-Ligue-1-Stats\"\n",
    "OUTPUT_FOLDER = \"FBRef_2024_25\"\n",
    "os.makedirs(OUTPUT_FOLDER, exist_ok=True)\n",
    "\n",
    "tables = pd.read_html(SEASON_URL, header=[0, 1])\n",
    "print(f\"Found {len(tables)} tables on the page.\")\n",
    "\n",
    "standard_stats_df = tables[1]\n",
    "\n",
    "standard_stats_df.columns = [\n",
    "    '_'.join([str(c) for c in col if str(c) != '']).strip() if isinstance(col, tuple) else col\n",
    "    for col in standard_stats_df.columns.values]\n",
    "\n",
    "standard_stats_df = standard_stats_df.loc[:, ~standard_stats_df.columns.str.contains('^Unnamed')]\n",
    "\n",
    "filename = os.path.join(OUTPUT_FOLDER, \"StandardStats.csv\")\n",
    "standard_stats_df.to_csv(filename, index=False)\n",
    "print(f\"StandardStats saved, shape: {standard_stats_df.shape}\")"
   ]
  },
  {
   "cell_type": "code",
   "execution_count": null,
   "id": "b10c74b8-6ff4-4c12-986b-059b95f57e14",
   "metadata": {},
   "outputs": [],
   "source": []
  }
 ],
 "metadata": {
  "kernelspec": {
   "display_name": "Python [conda env:base] *",
   "language": "python",
   "name": "conda-base-py"
  },
  "language_info": {
   "codemirror_mode": {
    "name": "ipython",
    "version": 3
   },
   "file_extension": ".py",
   "mimetype": "text/x-python",
   "name": "python",
   "nbconvert_exporter": "python",
   "pygments_lexer": "ipython3",
   "version": "3.13.5"
  }
 },
 "nbformat": 4,
 "nbformat_minor": 5
}
